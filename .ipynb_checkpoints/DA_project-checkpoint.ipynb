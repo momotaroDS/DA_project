{
 "cells": [
  {
   "cell_type": "markdown",
   "metadata": {},
   "source": [
    "## Вводные\n",
    "Представьте, что вы работаете в компании, которая разрабатывает мобильные игры. К вам пришел менеджер с рядом задач по исследованию нескольких аспектов мобильного приложения:\n",
    "1. В первую очередь, его интересует показатель retention. Напишите функцию для его подсчета.\n",
    "2. Помимо этого, в компании провели A/B тестирование наборов акционных предложений. На основе имеющихся данных определите, какой набор можно считать лучшим и на основе каких метрик стоит принять правильное решение.\n",
    "3. Предложите метрики для оценки результатов последнего прошедшего тематического события в игре."
   ]
  },
  {
   "cell_type": "markdown",
   "metadata": {},
   "source": [
    "## Задание 1\n",
    "Retention – один из самых важных показателей в компании. Ваша задача – написать функцию, которая будет считать retention игроков (по дням от даты регистрации игрока).  \n",
    "\n",
    "reg_data.csv – данные о времени регистрации  \n",
    "auth_data.csv – данные о времени захода пользователей в игру\n",
    "\n",
    "Функция должна быть написана на python. В ходе решения можно тестировать работу функции как на полном датасете, так и на части (сэмпле) данных."
   ]
  },
  {
   "cell_type": "code",
   "execution_count": 1,
   "metadata": {},
   "outputs": [],
   "source": [
    "import pandas as pd\n",
    "import numpy as np\n",
    "import matplotlib.pyplot as plt\n",
    "import requests\n",
    "from urllib.parse import urlencode\n",
    "import seaborn as sns\n",
    "import datetime\n",
    "import scipy.stats as ss\n",
    "pd.options.mode.chained_assignment = None\n",
    "\n",
    "%matplotlib inline"
   ]
  },
  {
   "cell_type": "code",
   "execution_count": 2,
   "metadata": {},
   "outputs": [],
   "source": [
    "base_url = 'https://cloud-api.yandex.net/v1/disk/public/resources/download?'\n",
    "\n",
    "reg_data_url = 'https://disk.yandex.ru/d/cd1YycONeuuVUQ'\n",
    "\n",
    "auth_data_url = 'https://disk.yandex.ru/d/mVnipgZA1y-FlQ'"
   ]
  },
  {
   "cell_type": "markdown",
   "metadata": {},
   "source": [
    "Для начала посмотрим на регистрации пользователей."
   ]
  },
  {
   "cell_type": "code",
   "execution_count": 3,
   "metadata": {},
   "outputs": [],
   "source": [
    "reg_data_final_url = base_url + urlencode(dict(public_key=reg_data_url)) \n",
    "response = requests.get(reg_data_final_url) \n",
    "download_url = response.json()['href']\n",
    "\n",
    "download_response = requests.get(download_url) \n",
    "reg_data = pd.read_csv(download_url, sep=';') "
   ]
  },
  {
   "cell_type": "code",
   "execution_count": 4,
   "metadata": {},
   "outputs": [
    {
     "data": {
      "text/html": [
       "<div>\n",
       "<style scoped>\n",
       "    .dataframe tbody tr th:only-of-type {\n",
       "        vertical-align: middle;\n",
       "    }\n",
       "\n",
       "    .dataframe tbody tr th {\n",
       "        vertical-align: top;\n",
       "    }\n",
       "\n",
       "    .dataframe thead th {\n",
       "        text-align: right;\n",
       "    }\n",
       "</style>\n",
       "<table border=\"1\" class=\"dataframe\">\n",
       "  <thead>\n",
       "    <tr style=\"text-align: right;\">\n",
       "      <th></th>\n",
       "      <th>reg_ts</th>\n",
       "      <th>uid</th>\n",
       "    </tr>\n",
       "  </thead>\n",
       "  <tbody>\n",
       "    <tr>\n",
       "      <th>0</th>\n",
       "      <td>911382223</td>\n",
       "      <td>1</td>\n",
       "    </tr>\n",
       "    <tr>\n",
       "      <th>1</th>\n",
       "      <td>932683089</td>\n",
       "      <td>2</td>\n",
       "    </tr>\n",
       "    <tr>\n",
       "      <th>2</th>\n",
       "      <td>947802447</td>\n",
       "      <td>3</td>\n",
       "    </tr>\n",
       "  </tbody>\n",
       "</table>\n",
       "</div>"
      ],
      "text/plain": [
       "      reg_ts  uid\n",
       "0  911382223    1\n",
       "1  932683089    2\n",
       "2  947802447    3"
      ]
     },
     "execution_count": 4,
     "metadata": {},
     "output_type": "execute_result"
    }
   ],
   "source": [
    "# Таблица, в которой хранятся данные о регистрации игроков.\n",
    "# reg_ts - время регистрации. \n",
    "# uid - id игрока.\n",
    "reg_data.head(3)"
   ]
  },
  {
   "cell_type": "code",
   "execution_count": 5,
   "metadata": {},
   "outputs": [
    {
     "name": "stdout",
     "output_type": "stream",
     "text": [
      "<class 'pandas.core.frame.DataFrame'>\n",
      "RangeIndex: 1000000 entries, 0 to 999999\n",
      "Data columns (total 2 columns):\n",
      " #   Column  Non-Null Count    Dtype\n",
      "---  ------  --------------    -----\n",
      " 0   reg_ts  1000000 non-null  int64\n",
      " 1   uid     1000000 non-null  int64\n",
      "dtypes: int64(2)\n",
      "memory usage: 15.3 MB\n"
     ]
    }
   ],
   "source": [
    "reg_data.info()"
   ]
  },
  {
   "cell_type": "code",
   "execution_count": 6,
   "metadata": {},
   "outputs": [
    {
     "data": {
      "text/plain": [
       "1000000"
      ]
     },
     "execution_count": 6,
     "metadata": {},
     "output_type": "execute_result"
    }
   ],
   "source": [
    "reg_data.uid.nunique()"
   ]
  },
  {
   "cell_type": "markdown",
   "metadata": {},
   "source": [
    "За все время зарегестрировались 1 млн. человек.\n",
    "\n",
    "Теперь посмотрим на таблицу с заходами в игру."
   ]
  },
  {
   "cell_type": "code",
   "execution_count": 7,
   "metadata": {},
   "outputs": [],
   "source": [
    "auth_data_final_url = base_url + urlencode(dict(public_key=auth_data_url)) \n",
    "response = requests.get(auth_data_final_url) \n",
    "download_url = response.json()['href']\n",
    "\n",
    "download_response = requests.get(download_url) \n",
    "auth_data = pd.read_csv(download_url, sep=';') "
   ]
  },
  {
   "cell_type": "code",
   "execution_count": 8,
   "metadata": {},
   "outputs": [
    {
     "data": {
      "text/html": [
       "<div>\n",
       "<style scoped>\n",
       "    .dataframe tbody tr th:only-of-type {\n",
       "        vertical-align: middle;\n",
       "    }\n",
       "\n",
       "    .dataframe tbody tr th {\n",
       "        vertical-align: top;\n",
       "    }\n",
       "\n",
       "    .dataframe thead th {\n",
       "        text-align: right;\n",
       "    }\n",
       "</style>\n",
       "<table border=\"1\" class=\"dataframe\">\n",
       "  <thead>\n",
       "    <tr style=\"text-align: right;\">\n",
       "      <th></th>\n",
       "      <th>auth_ts</th>\n",
       "      <th>uid</th>\n",
       "    </tr>\n",
       "  </thead>\n",
       "  <tbody>\n",
       "    <tr>\n",
       "      <th>0</th>\n",
       "      <td>911382223</td>\n",
       "      <td>1</td>\n",
       "    </tr>\n",
       "    <tr>\n",
       "      <th>1</th>\n",
       "      <td>932683089</td>\n",
       "      <td>2</td>\n",
       "    </tr>\n",
       "    <tr>\n",
       "      <th>2</th>\n",
       "      <td>932921206</td>\n",
       "      <td>2</td>\n",
       "    </tr>\n",
       "  </tbody>\n",
       "</table>\n",
       "</div>"
      ],
      "text/plain": [
       "     auth_ts  uid\n",
       "0  911382223    1\n",
       "1  932683089    2\n",
       "2  932921206    2"
      ]
     },
     "execution_count": 8,
     "metadata": {},
     "output_type": "execute_result"
    }
   ],
   "source": [
    "# Таблица, в которой хранятся данные о заходе игроков в игру. \n",
    "# auth_ts - время захода в игру.\n",
    "# uid - id игрока.\n",
    "auth_data.head(3)"
   ]
  },
  {
   "cell_type": "code",
   "execution_count": 9,
   "metadata": {},
   "outputs": [
    {
     "data": {
      "text/plain": [
       "auth_ts    0\n",
       "uid        0\n",
       "dtype: int64"
      ]
     },
     "execution_count": 9,
     "metadata": {},
     "output_type": "execute_result"
    }
   ],
   "source": [
    "auth_data.isna().sum()"
   ]
  },
  {
   "cell_type": "code",
   "execution_count": 10,
   "metadata": {},
   "outputs": [
    {
     "data": {
      "text/plain": [
       "(9601013, 2)"
      ]
     },
     "execution_count": 10,
     "metadata": {},
     "output_type": "execute_result"
    }
   ],
   "source": [
    "auth_data.shape"
   ]
  },
  {
   "cell_type": "code",
   "execution_count": 11,
   "metadata": {},
   "outputs": [
    {
     "data": {
      "text/plain": [
       "1000000"
      ]
     },
     "execution_count": 11,
     "metadata": {},
     "output_type": "execute_result"
    }
   ],
   "source": [
    "auth_data.uid.nunique()"
   ]
  },
  {
   "cell_type": "markdown",
   "metadata": {},
   "source": [
    "Переведем все в нормальные даты, с которыми можно будет удобно работать.  \n",
    "В дальнейшем в функцию подадим \"сырые\" данные."
   ]
  },
  {
   "cell_type": "code",
   "execution_count": 12,
   "metadata": {},
   "outputs": [],
   "source": [
    "reg_data['reg_date'] = pd.to_datetime(reg_data['reg_ts'], unit='s').dt.date\n",
    "reg_data['reg_date'] = pd.to_datetime(reg_data['reg_date'])"
   ]
  },
  {
   "cell_type": "code",
   "execution_count": 13,
   "metadata": {},
   "outputs": [],
   "source": [
    "auth_data['auth_date'] = pd.to_datetime(auth_data['auth_ts'], unit='s').dt.date\n",
    "auth_data['auth_date'] = pd.to_datetime(auth_data['auth_date'])"
   ]
  },
  {
   "cell_type": "code",
   "execution_count": 14,
   "metadata": {},
   "outputs": [
    {
     "data": {
      "text/html": [
       "<div>\n",
       "<style scoped>\n",
       "    .dataframe tbody tr th:only-of-type {\n",
       "        vertical-align: middle;\n",
       "    }\n",
       "\n",
       "    .dataframe tbody tr th {\n",
       "        vertical-align: top;\n",
       "    }\n",
       "\n",
       "    .dataframe thead th {\n",
       "        text-align: right;\n",
       "    }\n",
       "</style>\n",
       "<table border=\"1\" class=\"dataframe\">\n",
       "  <thead>\n",
       "    <tr style=\"text-align: right;\">\n",
       "      <th></th>\n",
       "      <th>reg_ts</th>\n",
       "      <th>uid</th>\n",
       "      <th>reg_date</th>\n",
       "    </tr>\n",
       "  </thead>\n",
       "  <tbody>\n",
       "    <tr>\n",
       "      <th>0</th>\n",
       "      <td>911382223</td>\n",
       "      <td>1</td>\n",
       "      <td>1998-11-18</td>\n",
       "    </tr>\n",
       "    <tr>\n",
       "      <th>1</th>\n",
       "      <td>932683089</td>\n",
       "      <td>2</td>\n",
       "      <td>1999-07-22</td>\n",
       "    </tr>\n",
       "    <tr>\n",
       "      <th>2</th>\n",
       "      <td>947802447</td>\n",
       "      <td>3</td>\n",
       "      <td>2000-01-13</td>\n",
       "    </tr>\n",
       "  </tbody>\n",
       "</table>\n",
       "</div>"
      ],
      "text/plain": [
       "      reg_ts  uid   reg_date\n",
       "0  911382223    1 1998-11-18\n",
       "1  932683089    2 1999-07-22\n",
       "2  947802447    3 2000-01-13"
      ]
     },
     "execution_count": 14,
     "metadata": {},
     "output_type": "execute_result"
    }
   ],
   "source": [
    "reg_data.head(3)"
   ]
  },
  {
   "cell_type": "code",
   "execution_count": 15,
   "metadata": {},
   "outputs": [
    {
     "data": {
      "text/html": [
       "<div>\n",
       "<style scoped>\n",
       "    .dataframe tbody tr th:only-of-type {\n",
       "        vertical-align: middle;\n",
       "    }\n",
       "\n",
       "    .dataframe tbody tr th {\n",
       "        vertical-align: top;\n",
       "    }\n",
       "\n",
       "    .dataframe thead th {\n",
       "        text-align: right;\n",
       "    }\n",
       "</style>\n",
       "<table border=\"1\" class=\"dataframe\">\n",
       "  <thead>\n",
       "    <tr style=\"text-align: right;\">\n",
       "      <th></th>\n",
       "      <th>auth_ts</th>\n",
       "      <th>uid</th>\n",
       "      <th>auth_date</th>\n",
       "    </tr>\n",
       "  </thead>\n",
       "  <tbody>\n",
       "    <tr>\n",
       "      <th>0</th>\n",
       "      <td>911382223</td>\n",
       "      <td>1</td>\n",
       "      <td>1998-11-18</td>\n",
       "    </tr>\n",
       "    <tr>\n",
       "      <th>1</th>\n",
       "      <td>932683089</td>\n",
       "      <td>2</td>\n",
       "      <td>1999-07-22</td>\n",
       "    </tr>\n",
       "    <tr>\n",
       "      <th>2</th>\n",
       "      <td>932921206</td>\n",
       "      <td>2</td>\n",
       "      <td>1999-07-25</td>\n",
       "    </tr>\n",
       "  </tbody>\n",
       "</table>\n",
       "</div>"
      ],
      "text/plain": [
       "     auth_ts  uid  auth_date\n",
       "0  911382223    1 1998-11-18\n",
       "1  932683089    2 1999-07-22\n",
       "2  932921206    2 1999-07-25"
      ]
     },
     "execution_count": 15,
     "metadata": {},
     "output_type": "execute_result"
    }
   ],
   "source": [
    "auth_data.head(3)"
   ]
  },
  {
   "cell_type": "code",
   "execution_count": 16,
   "metadata": {},
   "outputs": [
    {
     "data": {
      "text/plain": [
       "(9601013, 3)"
      ]
     },
     "execution_count": 16,
     "metadata": {},
     "output_type": "execute_result"
    }
   ],
   "source": [
    "auth_data.shape"
   ]
  },
  {
   "cell_type": "code",
   "execution_count": 17,
   "metadata": {},
   "outputs": [
    {
     "data": {
      "text/plain": [
       "0"
      ]
     },
     "execution_count": 17,
     "metadata": {},
     "output_type": "execute_result"
    }
   ],
   "source": [
    "auth_data[['uid', 'auth_date']].duplicated().sum()"
   ]
  },
  {
   "cell_type": "markdown",
   "metadata": {},
   "source": [
    "Кажется, у нас есть некоторое кол-во ветеранов :)  "
   ]
  },
  {
   "cell_type": "code",
   "execution_count": 18,
   "metadata": {},
   "outputs": [
    {
     "data": {
      "text/plain": [
       "reg_date\n",
       "2020    354963\n",
       "2019    291102\n",
       "2018    159729\n",
       "2017     87645\n",
       "2016     48187\n",
       "2015     26344\n",
       "2014     14455\n",
       "2013      7932\n",
       "2012      4361\n",
       "2011      2385\n",
       "2010      1308\n",
       "2009       718\n",
       "2008       394\n",
       "2007       216\n",
       "2006       119\n",
       "2005        65\n",
       "2004        35\n",
       "2003        20\n",
       "2002        10\n",
       "2001         6\n",
       "2000         4\n",
       "1999         1\n",
       "1998         1\n",
       "Name: count, dtype: int64"
      ]
     },
     "execution_count": 18,
     "metadata": {},
     "output_type": "execute_result"
    }
   ],
   "source": [
    "reg_data['reg_date'].dt.year.value_counts()"
   ]
  },
  {
   "cell_type": "markdown",
   "metadata": {},
   "source": [
    "Не совсем понятно, в каких играх могли зарегистрироваться наши ветераны. Кажется, первые мобильные игры с возможностью регистрации (с использованием интернета) появились в начале 2000-х. Но думаю, что сейчас это не особо важно.\n",
    "\n",
    "Требуется написать функцию для расчета retention. Для проверки ее работоспособности я возьму только людей, которые зарегистрировались в 2020 году в марте."
   ]
  },
  {
   "cell_type": "code",
   "execution_count": 19,
   "metadata": {},
   "outputs": [],
   "source": [
    "reg_data.drop('reg_date', axis=1, inplace=True)\n",
    "auth_data.drop('auth_date', axis=1, inplace=True)"
   ]
  },
  {
   "cell_type": "code",
   "execution_count": 20,
   "metadata": {},
   "outputs": [],
   "source": [
    "def retention_func(reg_df, auth_df, day, from_date='', to_date='', safe_data=False):  \n",
    "    \n",
    "    '''Функция для расчета retention\n",
    "    \n",
    "    Аргументы\n",
    "    ---------\n",
    "    reg_data : pd.DataFrame с 2 столбцами: время регистрации в сек, id игрока\n",
    "        информация о регистрациях игроков\n",
    "    auth_data : pd.DataFrame с 2 столбцами: время захода в сек, id игрока\n",
    "        информация о заходах игроков\n",
    "    day : int\n",
    "        день, до которого рассчитывается retention \n",
    "    from_date : str формата \"yyyy-mm-dd\"\n",
    "        дата, от которой нужно брать когорты (по умолчанию мин. дата регистрации)\n",
    "    to_date : str формата \"yyyy-mm-dd\"\n",
    "        дата, до которой нужно брать когорты (по умолчанию макс. дата регистрации)\n",
    "    safe_data : bool\n",
    "        False меняет переданные датафреймы, True копирует датафреймы (по умолчанию False)\n",
    "    \n",
    "    Возвращает\n",
    "    ----------\n",
    "    DataFrame.style с рассчитанным retention\n",
    "    \n",
    "    '''\n",
    "    # Проверка на необходимость копии датафреймов.\n",
    "    if safe_data:\n",
    "        reg_data = reg_df.copy()\n",
    "        auth_data = auth_df.copy()\n",
    "    else:\n",
    "        reg_data = reg_df\n",
    "        auth_data = auth_df\n",
    "    \n",
    "    # Проверяем даты для отбора когорт.\n",
    "    flag_from = False\n",
    "    flag_to = False\n",
    "    \n",
    "    if from_date != '':\n",
    "        try:\n",
    "            from_date = pd.to_datetime(from_date)\n",
    "        except:\n",
    "            return 'Введите дату, от которой нужно брать когорты.'\n",
    "    else:\n",
    "        flag_from = True\n",
    "        \n",
    "    if to_date != '':\n",
    "        try:\n",
    "            to_date = pd.to_datetime(to_date)\n",
    "        except:\n",
    "            return 'Введите дату, до которой нужно брать когорты.'\n",
    "    else:\n",
    "        flag_to = True\n",
    "    \n",
    "    # Приводим даты в датафреймах к формату yyyy-mm-dd и убираем столбцы с секундами.\n",
    "    reg_data['reg_date'] = pd.to_datetime(reg_data['reg_ts'], unit='s').dt.date\n",
    "    reg_data['reg_date'] = pd.to_datetime(reg_data['reg_date'])\n",
    "    auth_data['auth_date'] = pd.to_datetime(auth_data['auth_ts'], unit='s').dt.date\n",
    "    auth_data['auth_date'] = pd.to_datetime(auth_data['auth_date'])\n",
    "    reg_data.drop('reg_ts', axis=1, inplace=True)\n",
    "    auth_data.drop('auth_ts', axis=1, inplace=True)\n",
    "    \n",
    "    # Если какая-то граница для когорт не указана, то берется мин/макс значение.\n",
    "    if flag_from:\n",
    "        from_date = reg_data['reg_date'].min()\n",
    "    if flag_to:\n",
    "        to_date = reg_data['reg_date'].max()\n",
    "        \n",
    "    # Граница для заходов в игру.\n",
    "    to_date_auth = to_date + datetime.timedelta(days=day)\n",
    "    \n",
    "    # Оставляем только когорты и заходы в необходимом промежутке.\n",
    "    reg_data = reg_data.query('reg_date >= @from_date and reg_date <= @to_date')\n",
    "    auth_data = auth_data.query('auth_date >= @from_date and auth_date <= @to_date_auth')\n",
    "    \n",
    "    # Избавляемся от дубликатов, если они есть.\n",
    "    reg_data.drop_duplicates(inplace=True)\n",
    "    auth_data.drop_duplicates(inplace=True)\n",
    "    \n",
    "    # Объединяем две таблицы в одну.\n",
    "    all_data = reg_data.merge(auth_data, how='left', on='uid')\n",
    "    \n",
    "    # Добавляем столбец, в который запишем последний день расчета retention для когорты.\n",
    "    all_data['last_day'] = all_data['reg_date'] + datetime.timedelta(days=day)\n",
    "    \n",
    "    # Убираем все данные о заходах, которые будут идти после этой границы.\n",
    "    all_data = all_data.query('auth_date <= last_day')\n",
    "    \n",
    "    # Добавляем столбец с номером дня. \n",
    "    all_data['day_num'] = day - (all_data['last_day'] - all_data['auth_date']).dt.days\n",
    "    \n",
    "    # Группируем по дню регистрации и дню расчета retention, и считаем кол-во зашедших.\n",
    "    retention_data = all_data.groupby(['reg_date', 'day_num'], as_index=False).agg({'uid':'count'})\n",
    "    \n",
    "    # Делаем пивот с кол-вом игроков в каждой когорте, зашедших в определенный день.\n",
    "    retention_data = retention_data.pivot(index='reg_date', columns='day_num', values='uid').reset_index()\n",
    "    \n",
    "    # Убираем когорты, у которых в последний день нет заходов.\n",
    "    retention_data = retention_data[retention_data[len(retention_data.columns)-2].notna()]\n",
    "    \n",
    "    # Меняем название столбца нулевого дня на 'Кол-во людей в когорте'.\n",
    "    retention_data.rename(columns={0:'users_in_cohort'}, inplace=True)\n",
    "    \n",
    "    # Кол-во пользователей в день заменяем на процент.\n",
    "    retention_data.update(retention_data.iloc[:, 2:].div(retention_data['users_in_cohort'], 0) * 100)\n",
    "    \n",
    "    # Выбираем стиль для таблицы.\n",
    "    cm = sns.light_palette(\"seagreen\", as_cmap=True)\n",
    "    \n",
    "    # Возвращаем retention таблицу.\n",
    "    return retention_data.style.background_gradient(cmap=cm, axis=None, subset=retention_data.iloc[:, 2:].columns)"
   ]
  },
  {
   "cell_type": "markdown",
   "metadata": {},
   "source": [
    "Пусть будет таблица с расчетом retention 7 дня.  \n",
    "(Возможны баги с отображением стилей в гитхабе)"
   ]
  },
  {
   "cell_type": "code",
   "execution_count": 21,
   "metadata": {},
   "outputs": [],
   "source": [
    "retention = retention_func(reg_data, auth_data, 7, '2020-03-01', '2020-03-31', True)"
   ]
  },
  {
   "cell_type": "code",
   "execution_count": 22,
   "metadata": {},
   "outputs": [
    {
     "data": {
      "text/html": [
       "<style type=\"text/css\">\n",
       "#T_37a02_row0_col2 {\n",
       "  background-color: #cee3d6;\n",
       "  color: #000000;\n",
       "}\n",
       "#T_37a02_row0_col3, #T_37a02_row16_col3, #T_37a02_row18_col3, #T_37a02_row19_col4, #T_37a02_row29_col3 {\n",
       "  background-color: #94c3a8;\n",
       "  color: #000000;\n",
       "}\n",
       "#T_37a02_row0_col4, #T_37a02_row9_col5, #T_37a02_row30_col3 {\n",
       "  background-color: #89bd9f;\n",
       "  color: #000000;\n",
       "}\n",
       "#T_37a02_row0_col5, #T_37a02_row0_col8, #T_37a02_row9_col6, #T_37a02_row20_col4 {\n",
       "  background-color: #81b899;\n",
       "  color: #000000;\n",
       "}\n",
       "#T_37a02_row0_col6, #T_37a02_row23_col4 {\n",
       "  background-color: #8fc0a4;\n",
       "  color: #000000;\n",
       "}\n",
       "#T_37a02_row0_col7 {\n",
       "  background-color: #5aa37a;\n",
       "  color: #f1f1f1;\n",
       "}\n",
       "#T_37a02_row1_col2 {\n",
       "  background-color: #dceae1;\n",
       "  color: #000000;\n",
       "}\n",
       "#T_37a02_row1_col3, #T_37a02_row19_col3 {\n",
       "  background-color: #a6cdb6;\n",
       "  color: #000000;\n",
       "}\n",
       "#T_37a02_row1_col4, #T_37a02_row12_col3, #T_37a02_row25_col3 {\n",
       "  background-color: #99c6ac;\n",
       "  color: #000000;\n",
       "}\n",
       "#T_37a02_row1_col5, #T_37a02_row9_col4, #T_37a02_row9_col8 {\n",
       "  background-color: #87bc9e;\n",
       "  color: #000000;\n",
       "}\n",
       "#T_37a02_row1_col6, #T_37a02_row16_col6, #T_37a02_row25_col7 {\n",
       "  background-color: #5da57c;\n",
       "  color: #f1f1f1;\n",
       "}\n",
       "#T_37a02_row1_col7, #T_37a02_row10_col6 {\n",
       "  background-color: #6dae89;\n",
       "  color: #f1f1f1;\n",
       "}\n",
       "#T_37a02_row1_col8, #T_37a02_row18_col7, #T_37a02_row19_col8, #T_37a02_row25_col8 {\n",
       "  background-color: #67aa84;\n",
       "  color: #f1f1f1;\n",
       "}\n",
       "#T_37a02_row2_col2 {\n",
       "  background-color: #c4ddcf;\n",
       "  color: #000000;\n",
       "}\n",
       "#T_37a02_row2_col3 {\n",
       "  background-color: #b6d6c3;\n",
       "  color: #000000;\n",
       "}\n",
       "#T_37a02_row2_col4 {\n",
       "  background-color: #8abda0;\n",
       "  color: #000000;\n",
       "}\n",
       "#T_37a02_row2_col5 {\n",
       "  background-color: #96c4a9;\n",
       "  color: #000000;\n",
       "}\n",
       "#T_37a02_row2_col6, #T_37a02_row22_col4 {\n",
       "  background-color: #7db696;\n",
       "  color: #f1f1f1;\n",
       "}\n",
       "#T_37a02_row2_col7 {\n",
       "  background-color: #4b9b6e;\n",
       "  color: #f1f1f1;\n",
       "}\n",
       "#T_37a02_row2_col8, #T_37a02_row10_col4, #T_37a02_row12_col4, #T_37a02_row21_col5, #T_37a02_row27_col3, #T_37a02_row27_col5, #T_37a02_row27_col8 {\n",
       "  background-color: #8bbea1;\n",
       "  color: #000000;\n",
       "}\n",
       "#T_37a02_row3_col2 {\n",
       "  background-color: #bfdaca;\n",
       "  color: #000000;\n",
       "}\n",
       "#T_37a02_row3_col3, #T_37a02_row15_col4, #T_37a02_row27_col4 {\n",
       "  background-color: #92c2a7;\n",
       "  color: #000000;\n",
       "}\n",
       "#T_37a02_row3_col4, #T_37a02_row8_col7 {\n",
       "  background-color: #5fa67e;\n",
       "  color: #f1f1f1;\n",
       "}\n",
       "#T_37a02_row3_col5, #T_37a02_row4_col6, #T_37a02_row7_col8, #T_37a02_row12_col5, #T_37a02_row13_col4, #T_37a02_row14_col4, #T_37a02_row18_col4 {\n",
       "  background-color: #82b99a;\n",
       "  color: #000000;\n",
       "}\n",
       "#T_37a02_row3_col6 {\n",
       "  background-color: #66a983;\n",
       "  color: #f1f1f1;\n",
       "}\n",
       "#T_37a02_row3_col7 {\n",
       "  background-color: #519e73;\n",
       "  color: #f1f1f1;\n",
       "}\n",
       "#T_37a02_row3_col8 {\n",
       "  background-color: #3b9261;\n",
       "  color: #f1f1f1;\n",
       "}\n",
       "#T_37a02_row4_col2 {\n",
       "  background-color: #b9d7c5;\n",
       "  color: #000000;\n",
       "}\n",
       "#T_37a02_row4_col3, #T_37a02_row5_col5, #T_37a02_row8_col3, #T_37a02_row30_col5 {\n",
       "  background-color: #8ec0a4;\n",
       "  color: #000000;\n",
       "}\n",
       "#T_37a02_row4_col4, #T_37a02_row25_col4 {\n",
       "  background-color: #90c1a5;\n",
       "  color: #000000;\n",
       "}\n",
       "#T_37a02_row4_col5, #T_37a02_row20_col5, #T_37a02_row21_col8, #T_37a02_row28_col6 {\n",
       "  background-color: #6eae8a;\n",
       "  color: #f1f1f1;\n",
       "}\n",
       "#T_37a02_row4_col7, #T_37a02_row5_col7, #T_37a02_row6_col7, #T_37a02_row14_col8 {\n",
       "  background-color: #62a780;\n",
       "  color: #f1f1f1;\n",
       "}\n",
       "#T_37a02_row4_col8, #T_37a02_row22_col8, #T_37a02_row28_col7 {\n",
       "  background-color: #68ab85;\n",
       "  color: #f1f1f1;\n",
       "}\n",
       "#T_37a02_row5_col2 {\n",
       "  background-color: #d8e8de;\n",
       "  color: #000000;\n",
       "}\n",
       "#T_37a02_row5_col3, #T_37a02_row21_col3 {\n",
       "  background-color: #a8ceb8;\n",
       "  color: #000000;\n",
       "}\n",
       "#T_37a02_row5_col4 {\n",
       "  background-color: #76b290;\n",
       "  color: #f1f1f1;\n",
       "}\n",
       "#T_37a02_row5_col6 {\n",
       "  background-color: #4f9d72;\n",
       "  color: #f1f1f1;\n",
       "}\n",
       "#T_37a02_row5_col8 {\n",
       "  background-color: #5da57d;\n",
       "  color: #f1f1f1;\n",
       "}\n",
       "#T_37a02_row6_col2, #T_37a02_row29_col2 {\n",
       "  background-color: #cde2d5;\n",
       "  color: #000000;\n",
       "}\n",
       "#T_37a02_row6_col3, #T_37a02_row26_col3 {\n",
       "  background-color: #9fc9b1;\n",
       "  color: #000000;\n",
       "}\n",
       "#T_37a02_row6_col4, #T_37a02_row27_col6 {\n",
       "  background-color: #8cbfa2;\n",
       "  color: #000000;\n",
       "}\n",
       "#T_37a02_row6_col5 {\n",
       "  background-color: #96c4aa;\n",
       "  color: #000000;\n",
       "}\n",
       "#T_37a02_row6_col6 {\n",
       "  background-color: #72b08d;\n",
       "  color: #f1f1f1;\n",
       "}\n",
       "#T_37a02_row6_col8, #T_37a02_row28_col8 {\n",
       "  background-color: #91c1a5;\n",
       "  color: #000000;\n",
       "}\n",
       "#T_37a02_row7_col2 {\n",
       "  background-color: #d3e5da;\n",
       "  color: #000000;\n",
       "}\n",
       "#T_37a02_row7_col3, #T_37a02_row28_col3, #T_37a02_row28_col4 {\n",
       "  background-color: #9ac6ad;\n",
       "  color: #000000;\n",
       "}\n",
       "#T_37a02_row7_col4 {\n",
       "  background-color: #85bb9c;\n",
       "  color: #000000;\n",
       "}\n",
       "#T_37a02_row7_col5, #T_37a02_row18_col5, #T_37a02_row18_col8 {\n",
       "  background-color: #71b08c;\n",
       "  color: #f1f1f1;\n",
       "}\n",
       "#T_37a02_row7_col6 {\n",
       "  background-color: #7ab594;\n",
       "  color: #f1f1f1;\n",
       "}\n",
       "#T_37a02_row7_col7, #T_37a02_row13_col7 {\n",
       "  background-color: #5ea57d;\n",
       "  color: #f1f1f1;\n",
       "}\n",
       "#T_37a02_row8_col2, #T_37a02_row13_col2, #T_37a02_row14_col2 {\n",
       "  background-color: #d1e4d9;\n",
       "  color: #000000;\n",
       "}\n",
       "#T_37a02_row8_col4, #T_37a02_row11_col3 {\n",
       "  background-color: #a1cab2;\n",
       "  color: #000000;\n",
       "}\n",
       "#T_37a02_row8_col5, #T_37a02_row18_col6 {\n",
       "  background-color: #93c2a7;\n",
       "  color: #000000;\n",
       "}\n",
       "#T_37a02_row8_col6, #T_37a02_row16_col5 {\n",
       "  background-color: #7db695;\n",
       "  color: #f1f1f1;\n",
       "}\n",
       "#T_37a02_row8_col8, #T_37a02_row24_col7 {\n",
       "  background-color: #6bac87;\n",
       "  color: #f1f1f1;\n",
       "}\n",
       "#T_37a02_row9_col2, #T_37a02_row10_col2 {\n",
       "  background-color: #cbe1d4;\n",
       "  color: #000000;\n",
       "}\n",
       "#T_37a02_row9_col3 {\n",
       "  background-color: #bdd9c9;\n",
       "  color: #000000;\n",
       "}\n",
       "#T_37a02_row9_col7, #T_37a02_row19_col7 {\n",
       "  background-color: #63a881;\n",
       "  color: #f1f1f1;\n",
       "}\n",
       "#T_37a02_row10_col3 {\n",
       "  background-color: #b3d4c0;\n",
       "  color: #000000;\n",
       "}\n",
       "#T_37a02_row10_col5 {\n",
       "  background-color: #65a983;\n",
       "  color: #f1f1f1;\n",
       "}\n",
       "#T_37a02_row10_col7 {\n",
       "  background-color: #4d9c70;\n",
       "  color: #f1f1f1;\n",
       "}\n",
       "#T_37a02_row10_col8 {\n",
       "  background-color: #47996b;\n",
       "  color: #f1f1f1;\n",
       "}\n",
       "#T_37a02_row11_col2 {\n",
       "  background-color: #cde2d6;\n",
       "  color: #000000;\n",
       "}\n",
       "#T_37a02_row11_col4 {\n",
       "  background-color: #91c1a6;\n",
       "  color: #000000;\n",
       "}\n",
       "#T_37a02_row11_col5 {\n",
       "  background-color: #9bc7ae;\n",
       "  color: #000000;\n",
       "}\n",
       "#T_37a02_row11_col6, #T_37a02_row13_col6, #T_37a02_row19_col6, #T_37a02_row27_col7 {\n",
       "  background-color: #60a67e;\n",
       "  color: #f1f1f1;\n",
       "}\n",
       "#T_37a02_row11_col7 {\n",
       "  background-color: #55a176;\n",
       "  color: #f1f1f1;\n",
       "}\n",
       "#T_37a02_row11_col8, #T_37a02_row20_col3 {\n",
       "  background-color: #95c3a9;\n",
       "  color: #000000;\n",
       "}\n",
       "#T_37a02_row12_col2 {\n",
       "  background-color: #ddebe2;\n",
       "  color: #000000;\n",
       "}\n",
       "#T_37a02_row12_col6 {\n",
       "  background-color: #88bc9e;\n",
       "  color: #000000;\n",
       "}\n",
       "#T_37a02_row12_col7 {\n",
       "  background-color: #38905f;\n",
       "  color: #f1f1f1;\n",
       "}\n",
       "#T_37a02_row12_col8, #T_37a02_row24_col8 {\n",
       "  background-color: #77b391;\n",
       "  color: #f1f1f1;\n",
       "}\n",
       "#T_37a02_row13_col3, #T_37a02_row22_col6, #T_37a02_row24_col5 {\n",
       "  background-color: #8ebfa3;\n",
       "  color: #000000;\n",
       "}\n",
       "#T_37a02_row13_col5, #T_37a02_row15_col8, #T_37a02_row22_col7 {\n",
       "  background-color: #78b492;\n",
       "  color: #f1f1f1;\n",
       "}\n",
       "#T_37a02_row13_col8, #T_37a02_row21_col6, #T_37a02_row30_col4 {\n",
       "  background-color: #71b08d;\n",
       "  color: #f1f1f1;\n",
       "}\n",
       "#T_37a02_row14_col3, #T_37a02_row15_col3 {\n",
       "  background-color: #9cc7ae;\n",
       "  color: #000000;\n",
       "}\n",
       "#T_37a02_row14_col5, #T_37a02_row20_col8, #T_37a02_row23_col5, #T_37a02_row30_col7 {\n",
       "  background-color: #6cad88;\n",
       "  color: #f1f1f1;\n",
       "}\n",
       "#T_37a02_row14_col6 {\n",
       "  background-color: #58a279;\n",
       "  color: #f1f1f1;\n",
       "}\n",
       "#T_37a02_row14_col7 {\n",
       "  background-color: #4c9c6f;\n",
       "  color: #f1f1f1;\n",
       "}\n",
       "#T_37a02_row15_col2 {\n",
       "  background-color: #bfdbca;\n",
       "  color: #000000;\n",
       "}\n",
       "#T_37a02_row15_col5 {\n",
       "  background-color: #84ba9b;\n",
       "  color: #000000;\n",
       "}\n",
       "#T_37a02_row15_col6, #T_37a02_row17_col8 {\n",
       "  background-color: #57a177;\n",
       "  color: #f1f1f1;\n",
       "}\n",
       "#T_37a02_row15_col7, #T_37a02_row16_col7 {\n",
       "  background-color: #55a076;\n",
       "  color: #f1f1f1;\n",
       "}\n",
       "#T_37a02_row16_col2 {\n",
       "  background-color: #c7dfd1;\n",
       "  color: #000000;\n",
       "}\n",
       "#T_37a02_row16_col4, #T_37a02_row29_col5 {\n",
       "  background-color: #98c5ab;\n",
       "  color: #000000;\n",
       "}\n",
       "#T_37a02_row16_col8 {\n",
       "  background-color: #66aa84;\n",
       "  color: #f1f1f1;\n",
       "}\n",
       "#T_37a02_row17_col2, #T_37a02_row18_col2 {\n",
       "  background-color: #d2e5d9;\n",
       "  color: #000000;\n",
       "}\n",
       "#T_37a02_row17_col3, #T_37a02_row17_col5, #T_37a02_row19_col5, #T_37a02_row26_col8, #T_37a02_row28_col5 {\n",
       "  background-color: #7fb797;\n",
       "  color: #f1f1f1;\n",
       "}\n",
       "#T_37a02_row17_col4 {\n",
       "  background-color: #9cc8af;\n",
       "  color: #000000;\n",
       "}\n",
       "#T_37a02_row17_col6 {\n",
       "  background-color: #3f9465;\n",
       "  color: #f1f1f1;\n",
       "}\n",
       "#T_37a02_row17_col7 {\n",
       "  background-color: #2e8b57;\n",
       "  color: #f1f1f1;\n",
       "}\n",
       "#T_37a02_row19_col2 {\n",
       "  background-color: #cae0d3;\n",
       "  color: #000000;\n",
       "}\n",
       "#T_37a02_row20_col2 {\n",
       "  background-color: #c8dfd2;\n",
       "  color: #000000;\n",
       "}\n",
       "#T_37a02_row20_col6, #T_37a02_row20_col7 {\n",
       "  background-color: #509e72;\n",
       "  color: #f1f1f1;\n",
       "}\n",
       "#T_37a02_row21_col2, #T_37a02_row26_col2 {\n",
       "  background-color: #d4e6db;\n",
       "  color: #000000;\n",
       "}\n",
       "#T_37a02_row21_col4, #T_37a02_row22_col3 {\n",
       "  background-color: #99c5ac;\n",
       "  color: #000000;\n",
       "}\n",
       "#T_37a02_row21_col7 {\n",
       "  background-color: #358f5c;\n",
       "  color: #f1f1f1;\n",
       "}\n",
       "#T_37a02_row22_col2 {\n",
       "  background-color: #deebe3;\n",
       "  color: #000000;\n",
       "}\n",
       "#T_37a02_row22_col5, #T_37a02_row29_col8 {\n",
       "  background-color: #74b18e;\n",
       "  color: #f1f1f1;\n",
       "}\n",
       "#T_37a02_row23_col2 {\n",
       "  background-color: #b5d5c2;\n",
       "  color: #000000;\n",
       "}\n",
       "#T_37a02_row23_col3 {\n",
       "  background-color: #a7cdb7;\n",
       "  color: #000000;\n",
       "}\n",
       "#T_37a02_row23_col6, #T_37a02_row23_col7, #T_37a02_row29_col7 {\n",
       "  background-color: #64a982;\n",
       "  color: #f1f1f1;\n",
       "}\n",
       "#T_37a02_row23_col8 {\n",
       "  background-color: #7cb695;\n",
       "  color: #f1f1f1;\n",
       "}\n",
       "#T_37a02_row24_col2 {\n",
       "  background-color: #ebf3ed;\n",
       "  color: #000000;\n",
       "}\n",
       "#T_37a02_row24_col3 {\n",
       "  background-color: #b1d3bf;\n",
       "  color: #000000;\n",
       "}\n",
       "#T_37a02_row24_col4 {\n",
       "  background-color: #a5ccb6;\n",
       "  color: #000000;\n",
       "}\n",
       "#T_37a02_row24_col6 {\n",
       "  background-color: #7eb797;\n",
       "  color: #f1f1f1;\n",
       "}\n",
       "#T_37a02_row25_col2 {\n",
       "  background-color: #d0e4d8;\n",
       "  color: #000000;\n",
       "}\n",
       "#T_37a02_row25_col5 {\n",
       "  background-color: #80b898;\n",
       "  color: #000000;\n",
       "}\n",
       "#T_37a02_row25_col6 {\n",
       "  background-color: #5ba47b;\n",
       "  color: #f1f1f1;\n",
       "}\n",
       "#T_37a02_row26_col4 {\n",
       "  background-color: #88bd9f;\n",
       "  color: #000000;\n",
       "}\n",
       "#T_37a02_row26_col5, #T_37a02_row26_col6 {\n",
       "  background-color: #73b18e;\n",
       "  color: #f1f1f1;\n",
       "}\n",
       "#T_37a02_row26_col7 {\n",
       "  background-color: #3c9362;\n",
       "  color: #f1f1f1;\n",
       "}\n",
       "#T_37a02_row27_col2 {\n",
       "  background-color: #dae9e0;\n",
       "  color: #000000;\n",
       "}\n",
       "#T_37a02_row28_col2 {\n",
       "  background-color: #c3ddcd;\n",
       "  color: #000000;\n",
       "}\n",
       "#T_37a02_row29_col4 {\n",
       "  background-color: #a2cab3;\n",
       "  color: #000000;\n",
       "}\n",
       "#T_37a02_row29_col6 {\n",
       "  background-color: #7ab493;\n",
       "  color: #f1f1f1;\n",
       "}\n",
       "#T_37a02_row30_col2 {\n",
       "  background-color: #cfe3d7;\n",
       "  color: #000000;\n",
       "}\n",
       "#T_37a02_row30_col6 {\n",
       "  background-color: #83ba9b;\n",
       "  color: #000000;\n",
       "}\n",
       "#T_37a02_row30_col8 {\n",
       "  background-color: #7bb594;\n",
       "  color: #f1f1f1;\n",
       "}\n",
       "</style>\n",
       "<table id=\"T_37a02\">\n",
       "  <thead>\n",
       "    <tr>\n",
       "      <th class=\"index_name level0\" >day_num</th>\n",
       "      <th id=\"T_37a02_level0_col0\" class=\"col_heading level0 col0\" >reg_date</th>\n",
       "      <th id=\"T_37a02_level0_col1\" class=\"col_heading level0 col1\" >users_in_cohort</th>\n",
       "      <th id=\"T_37a02_level0_col2\" class=\"col_heading level0 col2\" >1</th>\n",
       "      <th id=\"T_37a02_level0_col3\" class=\"col_heading level0 col3\" >2</th>\n",
       "      <th id=\"T_37a02_level0_col4\" class=\"col_heading level0 col4\" >3</th>\n",
       "      <th id=\"T_37a02_level0_col5\" class=\"col_heading level0 col5\" >4</th>\n",
       "      <th id=\"T_37a02_level0_col6\" class=\"col_heading level0 col6\" >5</th>\n",
       "      <th id=\"T_37a02_level0_col7\" class=\"col_heading level0 col7\" >6</th>\n",
       "      <th id=\"T_37a02_level0_col8\" class=\"col_heading level0 col8\" >7</th>\n",
       "    </tr>\n",
       "  </thead>\n",
       "  <tbody>\n",
       "    <tr>\n",
       "      <th id=\"T_37a02_level0_row0\" class=\"row_heading level0 row0\" >0</th>\n",
       "      <td id=\"T_37a02_row0_col0\" class=\"data row0 col0\" >2020-03-01 00:00:00</td>\n",
       "      <td id=\"T_37a02_row0_col1\" class=\"data row0 col1\" >1172</td>\n",
       "      <td id=\"T_37a02_row0_col2\" class=\"data row0 col2\" >1.962457</td>\n",
       "      <td id=\"T_37a02_row0_col3\" class=\"data row0 col3\" >4.436860</td>\n",
       "      <td id=\"T_37a02_row0_col4\" class=\"data row0 col4\" >4.863481</td>\n",
       "      <td id=\"T_37a02_row0_col5\" class=\"data row0 col5\" >5.204778</td>\n",
       "      <td id=\"T_37a02_row0_col6\" class=\"data row0 col6\" >4.607509</td>\n",
       "      <td id=\"T_37a02_row0_col7\" class=\"data row0 col7\" >6.825939</td>\n",
       "      <td id=\"T_37a02_row0_col8\" class=\"data row0 col8\" >5.204778</td>\n",
       "    </tr>\n",
       "    <tr>\n",
       "      <th id=\"T_37a02_level0_row1\" class=\"row_heading level0 row1\" >1</th>\n",
       "      <td id=\"T_37a02_row1_col0\" class=\"data row1 col0\" >2020-03-02 00:00:00</td>\n",
       "      <td id=\"T_37a02_row1_col1\" class=\"data row1 col1\" >1173</td>\n",
       "      <td id=\"T_37a02_row1_col2\" class=\"data row1 col2\" >1.364024</td>\n",
       "      <td id=\"T_37a02_row1_col3\" class=\"data row1 col3\" >3.665814</td>\n",
       "      <td id=\"T_37a02_row1_col4\" class=\"data row1 col4\" >4.177323</td>\n",
       "      <td id=\"T_37a02_row1_col5\" class=\"data row1 col5\" >4.944587</td>\n",
       "      <td id=\"T_37a02_row1_col6\" class=\"data row1 col6\" >6.734868</td>\n",
       "      <td id=\"T_37a02_row1_col7\" class=\"data row1 col7\" >6.052856</td>\n",
       "      <td id=\"T_37a02_row1_col8\" class=\"data row1 col8\" >6.308610</td>\n",
       "    </tr>\n",
       "    <tr>\n",
       "      <th id=\"T_37a02_level0_row2\" class=\"row_heading level0 row2\" >2</th>\n",
       "      <td id=\"T_37a02_row2_col0\" class=\"data row2 col0\" >2020-03-03 00:00:00</td>\n",
       "      <td id=\"T_37a02_row2_col1\" class=\"data row2 col1\" >1176</td>\n",
       "      <td id=\"T_37a02_row2_col2\" class=\"data row2 col2\" >2.380952</td>\n",
       "      <td id=\"T_37a02_row2_col3\" class=\"data row2 col3\" >2.976190</td>\n",
       "      <td id=\"T_37a02_row2_col4\" class=\"data row2 col4\" >4.846939</td>\n",
       "      <td id=\"T_37a02_row2_col5\" class=\"data row2 col5\" >4.336735</td>\n",
       "      <td id=\"T_37a02_row2_col6\" class=\"data row2 col6\" >5.357143</td>\n",
       "      <td id=\"T_37a02_row2_col7\" class=\"data row2 col7\" >7.482993</td>\n",
       "      <td id=\"T_37a02_row2_col8\" class=\"data row2 col8\" >4.761905</td>\n",
       "    </tr>\n",
       "    <tr>\n",
       "      <th id=\"T_37a02_level0_row3\" class=\"row_heading level0 row3\" >3</th>\n",
       "      <td id=\"T_37a02_row3_col0\" class=\"data row3 col0\" >2020-03-04 00:00:00</td>\n",
       "      <td id=\"T_37a02_row3_col1\" class=\"data row3 col1\" >1177</td>\n",
       "      <td id=\"T_37a02_row3_col2\" class=\"data row3 col2\" >2.633815</td>\n",
       "      <td id=\"T_37a02_row3_col3\" class=\"data row3 col3\" >4.502974</td>\n",
       "      <td id=\"T_37a02_row3_col4\" class=\"data row3 col4\" >6.627018</td>\n",
       "      <td id=\"T_37a02_row3_col5\" class=\"data row3 col5\" >5.182668</td>\n",
       "      <td id=\"T_37a02_row3_col6\" class=\"data row3 col6\" >6.372133</td>\n",
       "      <td id=\"T_37a02_row3_col7\" class=\"data row3 col7\" >7.221750</td>\n",
       "      <td id=\"T_37a02_row3_col8\" class=\"data row3 col8\" >8.156330</td>\n",
       "    </tr>\n",
       "    <tr>\n",
       "      <th id=\"T_37a02_level0_row4\" class=\"row_heading level0 row4\" >4</th>\n",
       "      <td id=\"T_37a02_row4_col0\" class=\"data row4 col0\" >2020-03-05 00:00:00</td>\n",
       "      <td id=\"T_37a02_row4_col1\" class=\"data row4 col1\" >1180</td>\n",
       "      <td id=\"T_37a02_row4_col2\" class=\"data row4 col2\" >2.881356</td>\n",
       "      <td id=\"T_37a02_row4_col3\" class=\"data row4 col3\" >4.661017</td>\n",
       "      <td id=\"T_37a02_row4_col4\" class=\"data row4 col4\" >4.576271</td>\n",
       "      <td id=\"T_37a02_row4_col5\" class=\"data row4 col5\" >6.016949</td>\n",
       "      <td id=\"T_37a02_row4_col6\" class=\"data row4 col6\" >5.169492</td>\n",
       "      <td id=\"T_37a02_row4_col7\" class=\"data row4 col7\" >6.525424</td>\n",
       "      <td id=\"T_37a02_row4_col8\" class=\"data row4 col8\" >6.271186</td>\n",
       "    </tr>\n",
       "    <tr>\n",
       "      <th id=\"T_37a02_level0_row5\" class=\"row_heading level0 row5\" >5</th>\n",
       "      <td id=\"T_37a02_row5_col0\" class=\"data row5 col0\" >2020-03-06 00:00:00</td>\n",
       "      <td id=\"T_37a02_row5_col1\" class=\"data row5 col1\" >1181</td>\n",
       "      <td id=\"T_37a02_row5_col2\" class=\"data row5 col2\" >1.524132</td>\n",
       "      <td id=\"T_37a02_row5_col3\" class=\"data row5 col3\" >3.556308</td>\n",
       "      <td id=\"T_37a02_row5_col4\" class=\"data row5 col4\" >5.673158</td>\n",
       "      <td id=\"T_37a02_row5_col5\" class=\"data row5 col5\" >4.657070</td>\n",
       "      <td id=\"T_37a02_row5_col6\" class=\"data row5 col6\" >7.281964</td>\n",
       "      <td id=\"T_37a02_row5_col7\" class=\"data row5 col7\" >6.519898</td>\n",
       "      <td id=\"T_37a02_row5_col8\" class=\"data row5 col8\" >6.689246</td>\n",
       "    </tr>\n",
       "    <tr>\n",
       "      <th id=\"T_37a02_level0_row6\" class=\"row_heading level0 row6\" >6</th>\n",
       "      <td id=\"T_37a02_row6_col0\" class=\"data row6 col0\" >2020-03-07 00:00:00</td>\n",
       "      <td id=\"T_37a02_row6_col1\" class=\"data row6 col1\" >1183</td>\n",
       "      <td id=\"T_37a02_row6_col2\" class=\"data row6 col2\" >2.028740</td>\n",
       "      <td id=\"T_37a02_row6_col3\" class=\"data row6 col3\" >3.972950</td>\n",
       "      <td id=\"T_37a02_row6_col4\" class=\"data row6 col4\" >4.733728</td>\n",
       "      <td id=\"T_37a02_row6_col5\" class=\"data row6 col5\" >4.311074</td>\n",
       "      <td id=\"T_37a02_row6_col6\" class=\"data row6 col6\" >5.832629</td>\n",
       "      <td id=\"T_37a02_row6_col7\" class=\"data row6 col7\" >6.508876</td>\n",
       "      <td id=\"T_37a02_row6_col8\" class=\"data row6 col8\" >4.564666</td>\n",
       "    </tr>\n",
       "    <tr>\n",
       "      <th id=\"T_37a02_level0_row7\" class=\"row_heading level0 row7\" >7</th>\n",
       "      <td id=\"T_37a02_row7_col0\" class=\"data row7 col0\" >2020-03-08 00:00:00</td>\n",
       "      <td id=\"T_37a02_row7_col1\" class=\"data row7 col1\" >1185</td>\n",
       "      <td id=\"T_37a02_row7_col2\" class=\"data row7 col2\" >1.772152</td>\n",
       "      <td id=\"T_37a02_row7_col3\" class=\"data row7 col3\" >4.135021</td>\n",
       "      <td id=\"T_37a02_row7_col4\" class=\"data row7 col4\" >5.063291</td>\n",
       "      <td id=\"T_37a02_row7_col5\" class=\"data row7 col5\" >5.907173</td>\n",
       "      <td id=\"T_37a02_row7_col6\" class=\"data row7 col6\" >5.485232</td>\n",
       "      <td id=\"T_37a02_row7_col7\" class=\"data row7 col7\" >6.666667</td>\n",
       "      <td id=\"T_37a02_row7_col8\" class=\"data row7 col8\" >5.147679</td>\n",
       "    </tr>\n",
       "    <tr>\n",
       "      <th id=\"T_37a02_level0_row8\" class=\"row_heading level0 row8\" >8</th>\n",
       "      <td id=\"T_37a02_row8_col0\" class=\"data row8 col0\" >2020-03-09 00:00:00</td>\n",
       "      <td id=\"T_37a02_row8_col1\" class=\"data row8 col1\" >1187</td>\n",
       "      <td id=\"T_37a02_row8_col2\" class=\"data row8 col2\" >1.853412</td>\n",
       "      <td id=\"T_37a02_row8_col3\" class=\"data row8 col3\" >4.633530</td>\n",
       "      <td id=\"T_37a02_row8_col4\" class=\"data row8 col4\" >3.875316</td>\n",
       "      <td id=\"T_37a02_row8_col5\" class=\"data row8 col5\" >4.465038</td>\n",
       "      <td id=\"T_37a02_row8_col6\" class=\"data row8 col6\" >5.391744</td>\n",
       "      <td id=\"T_37a02_row8_col7\" class=\"data row8 col7\" >6.655434</td>\n",
       "      <td id=\"T_37a02_row8_col8\" class=\"data row8 col8\" >6.149958</td>\n",
       "    </tr>\n",
       "    <tr>\n",
       "      <th id=\"T_37a02_level0_row9\" class=\"row_heading level0 row9\" >9</th>\n",
       "      <td id=\"T_37a02_row9_col0\" class=\"data row9 col0\" >2020-03-10 00:00:00</td>\n",
       "      <td id=\"T_37a02_row9_col1\" class=\"data row9 col1\" >1190</td>\n",
       "      <td id=\"T_37a02_row9_col2\" class=\"data row9 col2\" >2.100840</td>\n",
       "      <td id=\"T_37a02_row9_col3\" class=\"data row9 col3\" >2.689076</td>\n",
       "      <td id=\"T_37a02_row9_col4\" class=\"data row9 col4\" >4.957983</td>\n",
       "      <td id=\"T_37a02_row9_col5\" class=\"data row9 col5\" >4.873950</td>\n",
       "      <td id=\"T_37a02_row9_col6\" class=\"data row9 col6\" >5.210084</td>\n",
       "      <td id=\"T_37a02_row9_col7\" class=\"data row9 col7\" >6.470588</td>\n",
       "      <td id=\"T_37a02_row9_col8\" class=\"data row9 col8\" >4.957983</td>\n",
       "    </tr>\n",
       "    <tr>\n",
       "      <th id=\"T_37a02_level0_row10\" class=\"row_heading level0 row10\" >10</th>\n",
       "      <td id=\"T_37a02_row10_col0\" class=\"data row10 col0\" >2020-03-11 00:00:00</td>\n",
       "      <td id=\"T_37a02_row10_col1\" class=\"data row10 col1\" >1191</td>\n",
       "      <td id=\"T_37a02_row10_col2\" class=\"data row10 col2\" >2.099076</td>\n",
       "      <td id=\"T_37a02_row10_col3\" class=\"data row10 col3\" >3.106633</td>\n",
       "      <td id=\"T_37a02_row10_col4\" class=\"data row10 col4\" >4.785894</td>\n",
       "      <td id=\"T_37a02_row10_col5\" class=\"data row10 col5\" >6.381192</td>\n",
       "      <td id=\"T_37a02_row10_col6\" class=\"data row10 col6\" >6.045340</td>\n",
       "      <td id=\"T_37a02_row10_col7\" class=\"data row10 col7\" >7.388749</td>\n",
       "      <td id=\"T_37a02_row10_col8\" class=\"data row10 col8\" >7.640638</td>\n",
       "    </tr>\n",
       "    <tr>\n",
       "      <th id=\"T_37a02_level0_row11\" class=\"row_heading level0 row11\" >11</th>\n",
       "      <td id=\"T_37a02_row11_col0\" class=\"data row11 col0\" >2020-03-12 00:00:00</td>\n",
       "      <td id=\"T_37a02_row11_col1\" class=\"data row11 col1\" >1193</td>\n",
       "      <td id=\"T_37a02_row11_col2\" class=\"data row11 col2\" >2.011735</td>\n",
       "      <td id=\"T_37a02_row11_col3\" class=\"data row11 col3\" >3.855826</td>\n",
       "      <td id=\"T_37a02_row11_col4\" class=\"data row11 col4\" >4.526404</td>\n",
       "      <td id=\"T_37a02_row11_col5\" class=\"data row11 col5\" >4.107293</td>\n",
       "      <td id=\"T_37a02_row11_col6\" class=\"data row11 col6\" >6.621961</td>\n",
       "      <td id=\"T_37a02_row11_col7\" class=\"data row11 col7\" >7.041073</td>\n",
       "      <td id=\"T_37a02_row11_col8\" class=\"data row11 col8\" >4.358759</td>\n",
       "    </tr>\n",
       "    <tr>\n",
       "      <th id=\"T_37a02_level0_row12\" class=\"row_heading level0 row12\" >12</th>\n",
       "      <td id=\"T_37a02_row12_col0\" class=\"data row12 col0\" >2020-03-13 00:00:00</td>\n",
       "      <td id=\"T_37a02_row12_col1\" class=\"data row12 col1\" >1195</td>\n",
       "      <td id=\"T_37a02_row12_col2\" class=\"data row12 col2\" >1.338912</td>\n",
       "      <td id=\"T_37a02_row12_col3\" class=\"data row12 col3\" >4.184100</td>\n",
       "      <td id=\"T_37a02_row12_col4\" class=\"data row12 col4\" >4.769874</td>\n",
       "      <td id=\"T_37a02_row12_col5\" class=\"data row12 col5\" >5.188285</td>\n",
       "      <td id=\"T_37a02_row12_col6\" class=\"data row12 col6\" >4.937238</td>\n",
       "      <td id=\"T_37a02_row12_col7\" class=\"data row12 col7\" >8.284519</td>\n",
       "      <td id=\"T_37a02_row12_col8\" class=\"data row12 col8\" >5.606695</td>\n",
       "    </tr>\n",
       "    <tr>\n",
       "      <th id=\"T_37a02_level0_row13\" class=\"row_heading level0 row13\" >13</th>\n",
       "      <td id=\"T_37a02_row13_col0\" class=\"data row13 col0\" >2020-03-14 00:00:00</td>\n",
       "      <td id=\"T_37a02_row13_col1\" class=\"data row13 col1\" >1197</td>\n",
       "      <td id=\"T_37a02_row13_col2\" class=\"data row13 col2\" >1.837928</td>\n",
       "      <td id=\"T_37a02_row13_col3\" class=\"data row13 col3\" >4.678363</td>\n",
       "      <td id=\"T_37a02_row13_col4\" class=\"data row13 col4\" >5.179616</td>\n",
       "      <td id=\"T_37a02_row13_col5\" class=\"data row13 col5\" >5.597327</td>\n",
       "      <td id=\"T_37a02_row13_col6\" class=\"data row13 col6\" >6.599833</td>\n",
       "      <td id=\"T_37a02_row13_col7\" class=\"data row13 col7\" >6.683375</td>\n",
       "      <td id=\"T_37a02_row13_col8\" class=\"data row13 col8\" >5.847953</td>\n",
       "    </tr>\n",
       "    <tr>\n",
       "      <th id=\"T_37a02_level0_row14\" class=\"row_heading level0 row14\" >14</th>\n",
       "      <td id=\"T_37a02_row14_col0\" class=\"data row14 col0\" >2020-03-15 00:00:00</td>\n",
       "      <td id=\"T_37a02_row14_col1\" class=\"data row14 col1\" >1198</td>\n",
       "      <td id=\"T_37a02_row14_col2\" class=\"data row14 col2\" >1.836394</td>\n",
       "      <td id=\"T_37a02_row14_col3\" class=\"data row14 col3\" >4.090150</td>\n",
       "      <td id=\"T_37a02_row14_col4\" class=\"data row14 col4\" >5.175292</td>\n",
       "      <td id=\"T_37a02_row14_col5\" class=\"data row14 col5\" >6.093489</td>\n",
       "      <td id=\"T_37a02_row14_col6\" class=\"data row14 col6\" >6.928214</td>\n",
       "      <td id=\"T_37a02_row14_col7\" class=\"data row14 col7\" >7.429048</td>\n",
       "      <td id=\"T_37a02_row14_col8\" class=\"data row14 col8\" >6.510851</td>\n",
       "    </tr>\n",
       "    <tr>\n",
       "      <th id=\"T_37a02_level0_row15\" class=\"row_heading level0 row15\" >15</th>\n",
       "      <td id=\"T_37a02_row15_col0\" class=\"data row15 col0\" >2020-03-16 00:00:00</td>\n",
       "      <td id=\"T_37a02_row15_col1\" class=\"data row15 col1\" >1201</td>\n",
       "      <td id=\"T_37a02_row15_col2\" class=\"data row15 col2\" >2.581182</td>\n",
       "      <td id=\"T_37a02_row15_col3\" class=\"data row15 col3\" >4.079933</td>\n",
       "      <td id=\"T_37a02_row15_col4\" class=\"data row15 col4\" >4.496253</td>\n",
       "      <td id=\"T_37a02_row15_col5\" class=\"data row15 col5\" >5.079101</td>\n",
       "      <td id=\"T_37a02_row15_col6\" class=\"data row15 col6\" >6.994172</td>\n",
       "      <td id=\"T_37a02_row15_col7\" class=\"data row15 col7\" >7.077435</td>\n",
       "      <td id=\"T_37a02_row15_col8\" class=\"data row15 col8\" >5.578684</td>\n",
       "    </tr>\n",
       "    <tr>\n",
       "      <th id=\"T_37a02_level0_row16\" class=\"row_heading level0 row16\" >16</th>\n",
       "      <td id=\"T_37a02_row16_col0\" class=\"data row16 col0\" >2020-03-17 00:00:00</td>\n",
       "      <td id=\"T_37a02_row16_col1\" class=\"data row16 col1\" >1203</td>\n",
       "      <td id=\"T_37a02_row16_col2\" class=\"data row16 col2\" >2.244389</td>\n",
       "      <td id=\"T_37a02_row16_col3\" class=\"data row16 col3\" >4.405653</td>\n",
       "      <td id=\"T_37a02_row16_col4\" class=\"data row16 col4\" >4.239401</td>\n",
       "      <td id=\"T_37a02_row16_col5\" class=\"data row16 col5\" >5.403159</td>\n",
       "      <td id=\"T_37a02_row16_col6\" class=\"data row16 col6\" >6.733167</td>\n",
       "      <td id=\"T_37a02_row16_col7\" class=\"data row16 col7\" >7.065669</td>\n",
       "      <td id=\"T_37a02_row16_col8\" class=\"data row16 col8\" >6.317539</td>\n",
       "    </tr>\n",
       "    <tr>\n",
       "      <th id=\"T_37a02_level0_row17\" class=\"row_heading level0 row17\" >17</th>\n",
       "      <td id=\"T_37a02_row17_col0\" class=\"data row17 col0\" >2020-03-18 00:00:00</td>\n",
       "      <td id=\"T_37a02_row17_col1\" class=\"data row17 col1\" >1205</td>\n",
       "      <td id=\"T_37a02_row17_col2\" class=\"data row17 col2\" >1.825726</td>\n",
       "      <td id=\"T_37a02_row17_col3\" class=\"data row17 col3\" >5.311203</td>\n",
       "      <td id=\"T_37a02_row17_col4\" class=\"data row17 col4\" >4.066390</td>\n",
       "      <td id=\"T_37a02_row17_col5\" class=\"data row17 col5\" >5.311203</td>\n",
       "      <td id=\"T_37a02_row17_col6\" class=\"data row17 col6\" >7.966805</td>\n",
       "      <td id=\"T_37a02_row17_col7\" class=\"data row17 col7\" >8.713693</td>\n",
       "      <td id=\"T_37a02_row17_col8\" class=\"data row17 col8\" >6.970954</td>\n",
       "    </tr>\n",
       "    <tr>\n",
       "      <th id=\"T_37a02_level0_row18\" class=\"row_heading level0 row18\" >18</th>\n",
       "      <td id=\"T_37a02_row18_col0\" class=\"data row18 col0\" >2020-03-19 00:00:00</td>\n",
       "      <td id=\"T_37a02_row18_col1\" class=\"data row18 col1\" >1207</td>\n",
       "      <td id=\"T_37a02_row18_col2\" class=\"data row18 col2\" >1.822701</td>\n",
       "      <td id=\"T_37a02_row18_col3\" class=\"data row18 col3\" >4.391052</td>\n",
       "      <td id=\"T_37a02_row18_col4\" class=\"data row18 col4\" >5.136703</td>\n",
       "      <td id=\"T_37a02_row18_col5\" class=\"data row18 col5\" >5.882353</td>\n",
       "      <td id=\"T_37a02_row18_col6\" class=\"data row18 col6\" >4.473902</td>\n",
       "      <td id=\"T_37a02_row18_col7\" class=\"data row18 col7\" >6.296603</td>\n",
       "      <td id=\"T_37a02_row18_col8\" class=\"data row18 col8\" >5.882353</td>\n",
       "    </tr>\n",
       "    <tr>\n",
       "      <th id=\"T_37a02_level0_row19\" class=\"row_heading level0 row19\" >19</th>\n",
       "      <td id=\"T_37a02_row19_col0\" class=\"data row19 col0\" >2020-03-20 00:00:00</td>\n",
       "      <td id=\"T_37a02_row19_col1\" class=\"data row19 col1\" >1209</td>\n",
       "      <td id=\"T_37a02_row19_col2\" class=\"data row19 col2\" >2.150538</td>\n",
       "      <td id=\"T_37a02_row19_col3\" class=\"data row19 col3\" >3.639371</td>\n",
       "      <td id=\"T_37a02_row19_col4\" class=\"data row19 col4\" >4.383788</td>\n",
       "      <td id=\"T_37a02_row19_col5\" class=\"data row19 col5\" >5.293631</td>\n",
       "      <td id=\"T_37a02_row19_col6\" class=\"data row19 col6\" >6.617039</td>\n",
       "      <td id=\"T_37a02_row19_col7\" class=\"data row19 col7\" >6.451613</td>\n",
       "      <td id=\"T_37a02_row19_col8\" class=\"data row19 col8\" >6.286187</td>\n",
       "    </tr>\n",
       "    <tr>\n",
       "      <th id=\"T_37a02_level0_row20\" class=\"row_heading level0 row20\" >20</th>\n",
       "      <td id=\"T_37a02_row20_col0\" class=\"data row20 col0\" >2020-03-21 00:00:00</td>\n",
       "      <td id=\"T_37a02_row20_col1\" class=\"data row20 col1\" >1210</td>\n",
       "      <td id=\"T_37a02_row20_col2\" class=\"data row20 col2\" >2.231405</td>\n",
       "      <td id=\"T_37a02_row20_col3\" class=\"data row20 col3\" >4.380165</td>\n",
       "      <td id=\"T_37a02_row20_col4\" class=\"data row20 col4\" >5.206612</td>\n",
       "      <td id=\"T_37a02_row20_col5\" class=\"data row20 col5\" >6.033058</td>\n",
       "      <td id=\"T_37a02_row20_col6\" class=\"data row20 col6\" >7.272727</td>\n",
       "      <td id=\"T_37a02_row20_col7\" class=\"data row20 col7\" >7.272727</td>\n",
       "      <td id=\"T_37a02_row20_col8\" class=\"data row20 col8\" >6.115702</td>\n",
       "    </tr>\n",
       "    <tr>\n",
       "      <th id=\"T_37a02_level0_row21\" class=\"row_heading level0 row21\" >21</th>\n",
       "      <td id=\"T_37a02_row21_col0\" class=\"data row21 col0\" >2020-03-22 00:00:00</td>\n",
       "      <td id=\"T_37a02_row21_col1\" class=\"data row21 col1\" >1213</td>\n",
       "      <td id=\"T_37a02_row21_col2\" class=\"data row21 col2\" >1.731245</td>\n",
       "      <td id=\"T_37a02_row21_col3\" class=\"data row21 col3\" >3.544930</td>\n",
       "      <td id=\"T_37a02_row21_col4\" class=\"data row21 col4\" >4.204452</td>\n",
       "      <td id=\"T_37a02_row21_col5\" class=\"data row21 col5\" >4.781533</td>\n",
       "      <td id=\"T_37a02_row21_col6\" class=\"data row21 col6\" >5.853256</td>\n",
       "      <td id=\"T_37a02_row21_col7\" class=\"data row21 col7\" >8.408904</td>\n",
       "      <td id=\"T_37a02_row21_col8\" class=\"data row21 col8\" >6.018137</td>\n",
       "    </tr>\n",
       "    <tr>\n",
       "      <th id=\"T_37a02_level0_row22\" class=\"row_heading level0 row22\" >22</th>\n",
       "      <td id=\"T_37a02_row22_col0\" class=\"data row22 col0\" >2020-03-23 00:00:00</td>\n",
       "      <td id=\"T_37a02_row22_col1\" class=\"data row22 col1\" >1215</td>\n",
       "      <td id=\"T_37a02_row22_col2\" class=\"data row22 col2\" >1.316872</td>\n",
       "      <td id=\"T_37a02_row22_col3\" class=\"data row22 col3\" >4.197531</td>\n",
       "      <td id=\"T_37a02_row22_col4\" class=\"data row22 col4\" >5.349794</td>\n",
       "      <td id=\"T_37a02_row22_col5\" class=\"data row22 col5\" >5.761317</td>\n",
       "      <td id=\"T_37a02_row22_col6\" class=\"data row22 col6\" >4.691358</td>\n",
       "      <td id=\"T_37a02_row22_col7\" class=\"data row22 col7\" >5.596708</td>\n",
       "      <td id=\"T_37a02_row22_col8\" class=\"data row22 col8\" >6.255144</td>\n",
       "    </tr>\n",
       "    <tr>\n",
       "      <th id=\"T_37a02_level0_row23\" class=\"row_heading level0 row23\" >23</th>\n",
       "      <td id=\"T_37a02_row23_col0\" class=\"data row23 col0\" >2020-03-24 00:00:00</td>\n",
       "      <td id=\"T_37a02_row23_col1\" class=\"data row23 col1\" >1217</td>\n",
       "      <td id=\"T_37a02_row23_col2\" class=\"data row23 col2\" >3.040263</td>\n",
       "      <td id=\"T_37a02_row23_col3\" class=\"data row23 col3\" >3.615448</td>\n",
       "      <td id=\"T_37a02_row23_col4\" class=\"data row23 col4\" >4.601479</td>\n",
       "      <td id=\"T_37a02_row23_col5\" class=\"data row23 col5\" >6.080526</td>\n",
       "      <td id=\"T_37a02_row23_col6\" class=\"data row23 col6\" >6.409203</td>\n",
       "      <td id=\"T_37a02_row23_col7\" class=\"data row23 col7\" >6.409203</td>\n",
       "      <td id=\"T_37a02_row23_col8\" class=\"data row23 col8\" >5.423172</td>\n",
       "    </tr>\n",
       "    <tr>\n",
       "      <th id=\"T_37a02_level0_row24\" class=\"row_heading level0 row24\" >24</th>\n",
       "      <td id=\"T_37a02_row24_col0\" class=\"data row24 col0\" >2020-03-25 00:00:00</td>\n",
       "      <td id=\"T_37a02_row24_col1\" class=\"data row24 col1\" >1219</td>\n",
       "      <td id=\"T_37a02_row24_col2\" class=\"data row24 col2\" >0.738310</td>\n",
       "      <td id=\"T_37a02_row24_col3\" class=\"data row24 col3\" >3.199344</td>\n",
       "      <td id=\"T_37a02_row24_col4\" class=\"data row24 col4\" >3.691550</td>\n",
       "      <td id=\"T_37a02_row24_col5\" class=\"data row24 col5\" >4.675964</td>\n",
       "      <td id=\"T_37a02_row24_col6\" class=\"data row24 col6\" >5.332240</td>\n",
       "      <td id=\"T_37a02_row24_col7\" class=\"data row24 col7\" >6.152584</td>\n",
       "      <td id=\"T_37a02_row24_col8\" class=\"data row24 col8\" >5.660377</td>\n",
       "    </tr>\n",
       "    <tr>\n",
       "      <th id=\"T_37a02_level0_row25\" class=\"row_heading level0 row25\" >25</th>\n",
       "      <td id=\"T_37a02_row25_col0\" class=\"data row25 col0\" >2020-03-26 00:00:00</td>\n",
       "      <td id=\"T_37a02_row25_col1\" class=\"data row25 col1\" >1220</td>\n",
       "      <td id=\"T_37a02_row25_col2\" class=\"data row25 col2\" >1.885246</td>\n",
       "      <td id=\"T_37a02_row25_col3\" class=\"data row25 col3\" >4.180328</td>\n",
       "      <td id=\"T_37a02_row25_col4\" class=\"data row25 col4\" >4.590164</td>\n",
       "      <td id=\"T_37a02_row25_col5\" class=\"data row25 col5\" >5.245902</td>\n",
       "      <td id=\"T_37a02_row25_col6\" class=\"data row25 col6\" >6.803279</td>\n",
       "      <td id=\"T_37a02_row25_col7\" class=\"data row25 col7\" >6.721311</td>\n",
       "      <td id=\"T_37a02_row25_col8\" class=\"data row25 col8\" >6.311475</td>\n",
       "    </tr>\n",
       "    <tr>\n",
       "      <th id=\"T_37a02_level0_row26\" class=\"row_heading level0 row26\" >26</th>\n",
       "      <td id=\"T_37a02_row26_col0\" class=\"data row26 col0\" >2020-03-27 00:00:00</td>\n",
       "      <td id=\"T_37a02_row26_col1\" class=\"data row26 col1\" >1223</td>\n",
       "      <td id=\"T_37a02_row26_col2\" class=\"data row26 col2\" >1.717089</td>\n",
       "      <td id=\"T_37a02_row26_col3\" class=\"data row26 col3\" >3.924775</td>\n",
       "      <td id=\"T_37a02_row26_col4\" class=\"data row26 col4\" >4.905969</td>\n",
       "      <td id=\"T_37a02_row26_col5\" class=\"data row26 col5\" >5.805397</td>\n",
       "      <td id=\"T_37a02_row26_col6\" class=\"data row26 col6\" >5.805397</td>\n",
       "      <td id=\"T_37a02_row26_col7\" class=\"data row26 col7\" >8.094849</td>\n",
       "      <td id=\"T_37a02_row26_col8\" class=\"data row26 col8\" >5.314800</td>\n",
       "    </tr>\n",
       "    <tr>\n",
       "      <th id=\"T_37a02_level0_row27\" class=\"row_heading level0 row27\" >27</th>\n",
       "      <td id=\"T_37a02_row27_col0\" class=\"data row27 col0\" >2020-03-28 00:00:00</td>\n",
       "      <td id=\"T_37a02_row27_col1\" class=\"data row27 col1\" >1225</td>\n",
       "      <td id=\"T_37a02_row27_col2\" class=\"data row27 col2\" >1.469388</td>\n",
       "      <td id=\"T_37a02_row27_col3\" class=\"data row27 col3\" >4.816327</td>\n",
       "      <td id=\"T_37a02_row27_col4\" class=\"data row27 col4\" >4.489796</td>\n",
       "      <td id=\"T_37a02_row27_col5\" class=\"data row27 col5\" >4.816327</td>\n",
       "      <td id=\"T_37a02_row27_col6\" class=\"data row27 col6\" >4.734694</td>\n",
       "      <td id=\"T_37a02_row27_col7\" class=\"data row27 col7\" >6.612245</td>\n",
       "      <td id=\"T_37a02_row27_col8\" class=\"data row27 col8\" >4.816327</td>\n",
       "    </tr>\n",
       "    <tr>\n",
       "      <th id=\"T_37a02_level0_row28\" class=\"row_heading level0 row28\" >28</th>\n",
       "      <td id=\"T_37a02_row28_col0\" class=\"data row28 col0\" >2020-03-29 00:00:00</td>\n",
       "      <td id=\"T_37a02_row28_col1\" class=\"data row28 col1\" >1227</td>\n",
       "      <td id=\"T_37a02_row28_col2\" class=\"data row28 col2\" >2.444988</td>\n",
       "      <td id=\"T_37a02_row28_col3\" class=\"data row28 col3\" >4.156479</td>\n",
       "      <td id=\"T_37a02_row28_col4\" class=\"data row28 col4\" >4.156479</td>\n",
       "      <td id=\"T_37a02_row28_col5\" class=\"data row28 col5\" >5.297474</td>\n",
       "      <td id=\"T_37a02_row28_col6\" class=\"data row28 col6\" >6.030970</td>\n",
       "      <td id=\"T_37a02_row28_col7\" class=\"data row28 col7\" >6.275469</td>\n",
       "      <td id=\"T_37a02_row28_col8\" class=\"data row28 col8\" >4.563977</td>\n",
       "    </tr>\n",
       "    <tr>\n",
       "      <th id=\"T_37a02_level0_row29\" class=\"row_heading level0 row29\" >29</th>\n",
       "      <td id=\"T_37a02_row29_col0\" class=\"data row29 col0\" >2020-03-30 00:00:00</td>\n",
       "      <td id=\"T_37a02_row29_col1\" class=\"data row29 col1\" >1229</td>\n",
       "      <td id=\"T_37a02_row29_col2\" class=\"data row29 col2\" >2.034174</td>\n",
       "      <td id=\"T_37a02_row29_col3\" class=\"data row29 col3\" >4.393816</td>\n",
       "      <td id=\"T_37a02_row29_col4\" class=\"data row29 col4\" >3.824247</td>\n",
       "      <td id=\"T_37a02_row29_col5\" class=\"data row29 col5\" >4.231082</td>\n",
       "      <td id=\"T_37a02_row29_col6\" class=\"data row29 col6\" >5.532954</td>\n",
       "      <td id=\"T_37a02_row29_col7\" class=\"data row29 col7\" >6.427990</td>\n",
       "      <td id=\"T_37a02_row29_col8\" class=\"data row29 col8\" >5.777055</td>\n",
       "    </tr>\n",
       "    <tr>\n",
       "      <th id=\"T_37a02_level0_row30\" class=\"row_heading level0 row30\" >30</th>\n",
       "      <td id=\"T_37a02_row30_col0\" class=\"data row30 col0\" >2020-03-31 00:00:00</td>\n",
       "      <td id=\"T_37a02_row30_col1\" class=\"data row30 col1\" >1230</td>\n",
       "      <td id=\"T_37a02_row30_col2\" class=\"data row30 col2\" >1.951220</td>\n",
       "      <td id=\"T_37a02_row30_col3\" class=\"data row30 col3\" >4.878049</td>\n",
       "      <td id=\"T_37a02_row30_col4\" class=\"data row30 col4\" >5.853659</td>\n",
       "      <td id=\"T_37a02_row30_col5\" class=\"data row30 col5\" >4.634146</td>\n",
       "      <td id=\"T_37a02_row30_col6\" class=\"data row30 col6\" >5.121951</td>\n",
       "      <td id=\"T_37a02_row30_col7\" class=\"data row30 col7\" >6.097561</td>\n",
       "      <td id=\"T_37a02_row30_col8\" class=\"data row30 col8\" >5.447154</td>\n",
       "    </tr>\n",
       "  </tbody>\n",
       "</table>\n"
      ],
      "text/plain": [
       "<pandas.io.formats.style.Styler at 0x1f3b2a69370>"
      ]
     },
     "execution_count": 22,
     "metadata": {},
     "output_type": "execute_result"
    }
   ],
   "source": [
    "pd.set_option('display.max_rows', None)\n",
    "retention"
   ]
  },
  {
   "cell_type": "code",
   "execution_count": 23,
   "metadata": {},
   "outputs": [],
   "source": [
    "pd.set_option('display.max_rows', 10)"
   ]
  },
  {
   "cell_type": "markdown",
   "metadata": {},
   "source": [
    "## Задание 2\n",
    "Имеются результаты A/B теста, в котором двум группам пользователей предлагались различные наборы акционных предложений.  \n",
    "Известно, что ARPU в тестовой группе выше на 5%, чем в контрольной. При этом в контрольной группе 1928 игроков из 202103 оказались платящими, а в тестовой – 1805 из 202667.  \n",
    "\n",
    "Какой набор предложений можно считать лучшим? Какие метрики стоит проанализировать для принятия правильного решения и как?"
   ]
  },
  {
   "cell_type": "code",
   "execution_count": 24,
   "metadata": {},
   "outputs": [],
   "source": [
    "base_url = 'https://cloud-api.yandex.net/v1/disk/public/resources/download?'\n",
    "\n",
    "ab_url = 'https://disk.yandex.ru/d/SOkIsD5A8xlI7Q'"
   ]
  },
  {
   "cell_type": "code",
   "execution_count": 25,
   "metadata": {},
   "outputs": [],
   "source": [
    "ab_final_url = base_url + urlencode(dict(public_key=ab_url)) \n",
    "response = requests.get(ab_final_url) \n",
    "download_url = response.json()['href']\n",
    "\n",
    "download_response = requests.get(download_url) \n",
    "ab_tab = pd.read_csv(download_url, sep=';') "
   ]
  },
  {
   "cell_type": "code",
   "execution_count": 26,
   "metadata": {},
   "outputs": [
    {
     "data": {
      "text/html": [
       "<div>\n",
       "<style scoped>\n",
       "    .dataframe tbody tr th:only-of-type {\n",
       "        vertical-align: middle;\n",
       "    }\n",
       "\n",
       "    .dataframe tbody tr th {\n",
       "        vertical-align: top;\n",
       "    }\n",
       "\n",
       "    .dataframe thead th {\n",
       "        text-align: right;\n",
       "    }\n",
       "</style>\n",
       "<table border=\"1\" class=\"dataframe\">\n",
       "  <thead>\n",
       "    <tr style=\"text-align: right;\">\n",
       "      <th></th>\n",
       "      <th>user_id</th>\n",
       "      <th>revenue</th>\n",
       "      <th>testgroup</th>\n",
       "    </tr>\n",
       "  </thead>\n",
       "  <tbody>\n",
       "    <tr>\n",
       "      <th>0</th>\n",
       "      <td>1</td>\n",
       "      <td>0</td>\n",
       "      <td>b</td>\n",
       "    </tr>\n",
       "    <tr>\n",
       "      <th>1</th>\n",
       "      <td>2</td>\n",
       "      <td>0</td>\n",
       "      <td>a</td>\n",
       "    </tr>\n",
       "    <tr>\n",
       "      <th>2</th>\n",
       "      <td>3</td>\n",
       "      <td>0</td>\n",
       "      <td>a</td>\n",
       "    </tr>\n",
       "  </tbody>\n",
       "</table>\n",
       "</div>"
      ],
      "text/plain": [
       "   user_id  revenue testgroup\n",
       "0        1        0         b\n",
       "1        2        0         a\n",
       "2        3        0         a"
      ]
     },
     "execution_count": 26,
     "metadata": {},
     "output_type": "execute_result"
    }
   ],
   "source": [
    "# Таблица с результатами a/b теста\n",
    "# user_id - id пользователя\n",
    "# revenue - доход с пользователя\n",
    "# testgroup - группа(а или б), к которой относится пользователь\n",
    "ab_tab.head(3)"
   ]
  },
  {
   "cell_type": "code",
   "execution_count": 27,
   "metadata": {},
   "outputs": [
    {
     "name": "stdout",
     "output_type": "stream",
     "text": [
      "<class 'pandas.core.frame.DataFrame'>\n",
      "RangeIndex: 404770 entries, 0 to 404769\n",
      "Data columns (total 3 columns):\n",
      " #   Column     Non-Null Count   Dtype \n",
      "---  ------     --------------   ----- \n",
      " 0   user_id    404770 non-null  int64 \n",
      " 1   revenue    404770 non-null  int64 \n",
      " 2   testgroup  404770 non-null  object\n",
      "dtypes: int64(2), object(1)\n",
      "memory usage: 9.3+ MB\n"
     ]
    }
   ],
   "source": [
    "ab_tab.info()"
   ]
  },
  {
   "cell_type": "code",
   "execution_count": 28,
   "metadata": {},
   "outputs": [
    {
     "data": {
      "text/plain": [
       "user_id      404770\n",
       "revenue        1477\n",
       "testgroup         2\n",
       "dtype: int64"
      ]
     },
     "execution_count": 28,
     "metadata": {},
     "output_type": "execute_result"
    }
   ],
   "source": [
    "ab_tab.nunique()"
   ]
  },
  {
   "cell_type": "code",
   "execution_count": 29,
   "metadata": {},
   "outputs": [
    {
     "data": {
      "text/plain": [
       "testgroup\n",
       "b    202667\n",
       "a    202103\n",
       "Name: count, dtype: int64"
      ]
     },
     "execution_count": 29,
     "metadata": {},
     "output_type": "execute_result"
    }
   ],
   "source": [
    "ab_tab.testgroup.value_counts()"
   ]
  },
  {
   "cell_type": "markdown",
   "metadata": {},
   "source": [
    "Пока никаких проблем с данными.\n",
    "\n",
    "Посмотрим на распределения прибыли по группам."
   ]
  },
  {
   "cell_type": "code",
   "execution_count": 30,
   "metadata": {
    "scrolled": true
   },
   "outputs": [
    {
     "data": {
      "text/plain": [
       "[Text(0.5, 1.0, 'Тестовая группа')]"
      ]
     },
     "execution_count": 30,
     "metadata": {},
     "output_type": "execute_result"
    },
    {
     "data": {
      "image/png": "[encoded data removed]",
      "text/plain": [
       "<Figure size 1080x216 with 2 Axes>"
      ]
     },
     "metadata": {
      "needs_background": "light"
     },
     "output_type": "display_data"
    }
   ],
   "source": [
    "fig, ax = plt.subplots(1, 2, figsize=(15, 3))\n",
    "pd.set_option('mode.use_inf_as_na', True)\n",
    "sns.histplot(ab_tab.query('testgroup == \"a\"'), x='revenue', ax=ax[0]).set(title='Контрольная группа')\n",
    "sns.histplot(ab_tab.query('testgroup == \"b\"'), x='revenue', ax=ax[1]).set(title='Тестовая группа')"
   ]
  },
  {
   "cell_type": "code",
   "execution_count": 31,
   "metadata": {},
   "outputs": [
    {
     "data": {
      "text/plain": [
       "revenue\n",
       "0    401037\n",
       "Name: count, dtype: int64"
      ]
     },
     "execution_count": 31,
     "metadata": {},
     "output_type": "execute_result"
    }
   ],
   "source": [
    "ab_tab.revenue.value_counts().head(1)"
   ]
  },
  {
   "cell_type": "markdown",
   "metadata": {},
   "source": [
    "Нулевых значений слишком много, нужно посмотреть на графики без них, но уже сейчас можно увидеть различия, если посмотреть на ось x, на которой отображены значения прибыли, которые встречаются в группе."
   ]
  },
  {
   "cell_type": "code",
   "execution_count": 32,
   "metadata": {
    "scrolled": true
   },
   "outputs": [
    {
     "data": {
      "text/plain": [
       "[Text(0.5, 1.0, 'Тестовая группа без нулевых значений')]"
      ]
     },
     "execution_count": 32,
     "metadata": {},
     "output_type": "execute_result"
    },
    {
     "data": {
      "image/png": "[encoded data removed]",
      "text/plain": [
       "<Figure size 1080x144 with 2 Axes>"
      ]
     },
     "metadata": {
      "needs_background": "light"
     },
     "output_type": "display_data"
    }
   ],
   "source": [
    "fig, ax = plt.subplots(1, 2, figsize=(15, 2))\n",
    "sns.histplot(ab_tab.query('testgroup == \"a\" and revenue > 0'), x='revenue', ax=ax[0]) \\\n",
    "    .set(title='Контрольная группа без нулевых значений')\n",
    "sns.histplot(ab_tab.query('testgroup == \"b\" and revenue > 0'), x='revenue', ax=ax[1]) \\\n",
    "    .set(title='Тестовая группа без нулевых значений')"
   ]
  },
  {
   "cell_type": "markdown",
   "metadata": {},
   "source": [
    "Теперь поделим контрольную группу на 2 части, чтобы посмотреть на значения."
   ]
  },
  {
   "cell_type": "code",
   "execution_count": 33,
   "metadata": {},
   "outputs": [
    {
     "data": {
      "text/plain": [
       "[Text(0.5, 1.0, 'Часть контрольной группы без нулевых значений с большой прибылью')]"
      ]
     },
     "execution_count": 33,
     "metadata": {},
     "output_type": "execute_result"
    },
    {
     "data": {
      "image/png": "[encoded data removed]",
      "text/plain": [
       "<Figure size 1080x144 with 2 Axes>"
      ]
     },
     "metadata": {
      "needs_background": "light"
     },
     "output_type": "display_data"
    }
   ],
   "source": [
    "fig, ax = plt.subplots(1, 2, figsize=(15, 2))\n",
    "sns.histplot(ab_tab.query('testgroup == \"a\" and revenue > 0 and revenue < 30000'), x='revenue', ax=ax[0]) \\\n",
    "    .set(title='Часть контрольной группы без нулевых значений с малой прибылью')\n",
    "sns.histplot(ab_tab.query('testgroup == \"a\" and revenue > 0 and revenue > 30000'), x='revenue', ax=ax[1]) \\\n",
    "    .set(title='Часть контрольной группы без нулевых значений с большой прибылью')"
   ]
  },
  {
   "cell_type": "markdown",
   "metadata": {},
   "source": [
    "Если посмотреть на графики, можно заметить, что игроки, совершившие покупку, поделены на 3 группы:  \n",
    "- Те, кто тратит мало денег (200-400) - тип 1\n",
    "- Те, кто тратит среднее кол-во денег (2000-4000) - тип 2\n",
    "- Те, кто тратит очень много денег (30000+) - тип 3\n",
    "\n",
    "1 и 3 тип попали в контрольную группу, а 2 тип в тестовую.\n",
    "\n",
    "#### Уже можно сказать, что данные нас не устраивают и проверять итоги теста не имеет смысла.\n",
    "Могу предположить, что сломалась система сплитования, потому что между платящими в двух группах явный дисбаланс. Перед A/B тестом должны были прогнать A/A тесты, но об этом никаких данных нет.  \n",
    "Даже если мы предположим, что наша система поделила пользователей правильно, то данный апдейт бизнесу вряд ли понравится. Никто не захочет терять 'китов', которые приносят колоссальное количество прибыли.\n"
   ]
  },
  {
   "cell_type": "markdown",
   "metadata": {},
   "source": [
    "Ради интереса можно посмотреть на ARPU и ARPPU."
   ]
  },
  {
   "cell_type": "code",
   "execution_count": 34,
   "metadata": {},
   "outputs": [
    {
     "name": "stdout",
     "output_type": "stream",
     "text": [
      "Выручка с группы А: 5136189, где ARPU - 25.41 и ARPPU - 2664.0\n",
      "Выручка с группы Б: 5421603, где ARPU - 26.75 и ARPPU - 3003.66\n",
      "\n",
      "Выручка с первого типа покупателей в группе А: 545937, где ARPPU - 302.46\n",
      "Выручка с третьего типа покупателей в группе А: 4590252, где ARPPU - 37319.12\n",
      "\n",
      "ARPU в группе А без игроков-покупателей третьего типа: 2.7\n"
     ]
    }
   ],
   "source": [
    "print('Выручка с группы А: ' + str(ab_tab.query('testgroup == \"a\"').revenue.sum()) + \n",
    "      ', где ARPU - ' + str(round(ab_tab.query('testgroup == \"a\"').revenue.mean(), 2)) +\n",
    "      ' и ARPPU - ' + str(round(ab_tab.query('testgroup == \"a\" and revenue > 0').revenue.mean(), 2)))\n",
    "print('Выручка с группы Б: ' + str(ab_tab.query('testgroup == \"b\"').revenue.sum()) + ', где ARPU - ' +\n",
    "      str(round(ab_tab.query('testgroup == \"b\"').revenue.mean(), 2)) + ' и ARPPU - ' +\n",
    "      str(round(ab_tab.query('testgroup == \"b\" and revenue > 0').revenue.mean(), 2)) + '\\n')\n",
    "print('Выручка с первого типа покупателей в группе А: ' \n",
    "      + str(ab_tab.query('testgroup == \"a\" and revenue < 30000').revenue.sum()) + \n",
    "      ', где ARPPU - ' + str(round(ab_tab.query('testgroup == \"a\" and revenue > 0 and revenue < 30000').revenue.mean(), 2)))\n",
    "print('Выручка с третьего типа покупателей в группе А: ' \n",
    "      + str(ab_tab.query('testgroup == \"a\" and revenue > 30000').revenue.sum()) +\n",
    "      ', где ARPPU - ' + str(round(ab_tab.query('testgroup == \"a\" and revenue > 0 and revenue > 30000').revenue.mean(), 2)))\n",
    "print('\\nARPU в группе А без игроков-покупателей третьего типа: ' + \n",
    "      str(round(ab_tab.query('testgroup == \"a\" and revenue < 30000').revenue.mean(), 2)))"
   ]
  },
  {
   "cell_type": "markdown",
   "metadata": {},
   "source": [
    "Если посмотреть на средние траты пользователей в группах, то становится понятно, что \"выбросы\" очень сильно влияют на ARPU и ARPPU контрольной группы. Если бы \"выбросов\" в контрольной группе не было, то при примерно равной конверсии у нас было бы одинаковое кол-во заплативших в двух группах и их ARPU и ARPPU отличались бы при этом на порядок (не в пользу контрольной группы).  "
   ]
  },
  {
   "cell_type": "markdown",
   "metadata": {},
   "source": [
    "Для нормальной проверки итогов A/B теста, группы должны быть сбалансированными, но в данном случае это требование не соблюдается. 1 и 3 типы игроков-покупателей попали в контрольную группу, а 2 тип в тестовую.  \n",
    "Я думаю, что смысла в сравнении двух этих групп нет, из-за возможной поломки в системе сплитования."
   ]
  },
  {
   "cell_type": "markdown",
   "metadata": {},
   "source": [
    "## Задание 3\n",
    "В игре Plants & Gardens каждый месяц проводятся тематические события, ограниченные по времени. В них игроки могут получить уникальные предметы для сада и персонажей, дополнительные монеты или бонусы. Для получения награды требуется пройти ряд уровней за определенное время. С помощью каких метрик можно оценить результаты последнего прошедшего события?\n",
    "\n",
    "Предположим, в другом событии мы усложнили механику событий так, что при каждой неудачной попытке выполнения уровня игрок будет откатываться на несколько уровней назад. Изменится ли набор метрик оценки результата? Если да, то как?"
   ]
  },
  {
   "cell_type": "markdown",
   "metadata": {},
   "source": [
    "### Случай первый\n",
    "\n",
    "Наша цель привлекать новых пользователей(возвращать старых, удерживать текущих) и увеличивать прибыль. Нам нужно понимать, что нравится игрокам и как наши обновления влияют на продукт. Мы можем посмотреть на\n",
    "- DAU/MAU. Если с игрой все в порядке, то новые интересные ивенты должны бустить эти показатели.\n",
    "- Stickiness Rate и Retention Rate. Можно посмотреть на то, как разные ивенты/тематики удерживают пользователей.\n",
    "- Процент игроков, принявших участие в ивенте. Узнаем был ли интересен игрокам сам ивент/тематика. Можем сравнить с другими ивентами и сделать предположения о том, что нравится игрокам.\n",
    "- Процент игроков, закончивших ивент полностью. Можно оценить сложность ивента, возможно, ценность финальной награды.\n",
    "- Average Playtime.  Нужно стараться увеличить время игры, но чтобы это не отталкивало игроков. Игроки должны оставаться из-за интересного контента и механик, а не из-за невероятной сложности или чего-то подобного.\n",
    "- Среднее кол-во попыток на уровень. Можем оценить сложность уровней. Если есть уровень, в который упираются игроки, мы сможем это увидеть и пофиксить.\n",
    "\n",
    "Можно также посмотреть на метрики прыбыли. Новые ивенты с интересными тематиками и уникальными наградами могут привлекать новых игроков и удерживать старых. Эти люди, возможно, будут совершать внутриигровые покупки."
   ]
  },
  {
   "cell_type": "markdown",
   "metadata": {},
   "source": [
    "### Случай второй\n",
    "\n",
    "Про метрики из первого случая не забываем, понятно, что разные метрики могут просесть. Например, процент игроков завершивших ивент полностью может упасть, или Average Playtime может увеличится или уменьшиться из-за сложности и начнет отталкивать игроков. Вместе с метриками из первого случая мы можем смотреть на дополнительные:\n",
    "- Процент людей, которые прошли ивент без откатов. Если процент слишком высок, возможно, что-то работает неправильно.\n",
    "- Среднее кол-во откатов после которого люди бросают ивент. \n",
    "- Среднее кол-во откатов на игрока. Этот показатель должен быть ниже предыдущей метрики."
   ]
  }
 ],
 "metadata": {
  "kernelspec": {
   "display_name": "Python 3 (ipykernel)",
   "language": "python",
   "name": "python3"
  },
  "language_info": {
   "codemirror_mode": {
    "name": "ipython",
    "version": 3
   },
   "file_extension": ".py",
   "mimetype": "text/x-python",
   "name": "python",
   "nbconvert_exporter": "python",
   "pygments_lexer": "ipython3",
   "version": "3.9.6"
  }
 },
 "nbformat": 4,
 "nbformat_minor": 4
}
